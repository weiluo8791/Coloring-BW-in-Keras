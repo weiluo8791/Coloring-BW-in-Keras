{
 "cells": [
  {
   "cell_type": "code",
   "execution_count": 1,
   "metadata": {},
   "outputs": [
    {
     "name": "stdout",
     "output_type": "stream",
     "text": [
      "Python version 3.10.2 (tags/v3.10.2:a58ebcc, Jan 17 2022, 14:12:15) [MSC v.1929 64 bit (AMD64)]\n",
      "keras version 2.8.0\n",
      "tensorflow version 2.8.0\n",
      "numpy version 1.22.2\n",
      "Eager mode True\n",
      "[name: \"/device:CPU:0\"\n",
      "device_type: \"CPU\"\n",
      "memory_limit: 268435456\n",
      "locality {\n",
      "}\n",
      "incarnation: 1345624870515634904\n",
      "xla_global_id: -1\n",
      ", name: \"/device:GPU:0\"\n",
      "device_type: \"GPU\"\n",
      "memory_limit: 3667263488\n",
      "locality {\n",
      "  bus_id: 1\n",
      "  links {\n",
      "  }\n",
      "}\n",
      "incarnation: 1172860329802649007\n",
      "physical_device_desc: \"device: 0, name: NVIDIA GeForce RTX 3060 Laptop GPU, pci bus id: 0000:01:00.0, compute capability: 8.6\"\n",
      "xla_global_id: 416903419\n",
      "]\n",
      "Default GPU Device: /device:GPU:0\n"
     ]
    }
   ],
   "source": [
    "import keras\n",
    "import numpy as np\n",
    "import os\n",
    "import tensorflow as tf\n",
    "import matplotlib.pyplot as plt\n",
    "\n",
    "from keras import backend as K\n",
    "from keras.applications.inception_resnet_v2 import InceptionResNetV2\n",
    "from keras.preprocessing import image\n",
    "from keras.applications.inception_resnet_v2 import preprocess_input\n",
    "from keras.layers import Conv2D, UpSampling2D, InputLayer, Conv2DTranspose, Input, Reshape, merge, concatenate, Activation, Dense, Dropout, Flatten\n",
    "from tensorflow.keras.layers import BatchNormalization\n",
    "from keras.callbacks import TensorBoard \n",
    "from keras.models import Sequential, Model\n",
    "from keras.layers.core import RepeatVector, Permute\n",
    "from keras.preprocessing.image import ImageDataGenerator, array_to_img, img_to_array, load_img\n",
    "from keras import optimizers\n",
    "from keras.models import model_from_json\n",
    "from skimage.color import rgb2lab, lab2rgb, rgb2gray, gray2rgb\n",
    "from keras.callbacks import ModelCheckpoint\n",
    "from skimage.transform import resize\n",
    "from skimage.io import imsave\n",
    "\n",
    "session = keras.backend.get_session()\n",
    "\n",
    "print(\"Python version\",sys.version)\n",
    "print (\"keras version\", keras.__version__)\n",
    "print (\"tensorflow version\", tf.__version__)\n",
    "print (\"numpy version\", np.__version__)\n",
    "print(\"Eager mode\", tf.executing_eagerly())\n",
    "\n",
    "from tensorflow.python.client import device_lib\n",
    "print(device_lib.list_local_devices())\n",
    "\n",
    "if tf.test.gpu_device_name():\n",
    "    print('Default GPU Device: {}'.format(tf.test.gpu_device_name()))\n",
    "else:\n",
    "    print(\"Please install GPU version of TF\")"
   ]
  },
  {
   "cell_type": "code",
   "execution_count": 2,
   "metadata": {},
   "outputs": [
    {
     "name": "stdout",
     "output_type": "stream",
     "text": [
      "WARNING:tensorflow:From c:\\Python\\Python310\\lib\\site-packages\\keras\\layers\\normalization\\batch_normalization.py:532: _colocate_with (from tensorflow.python.framework.ops) is deprecated and will be removed in a future version.\n",
      "Instructions for updating:\n",
      "Colocations handled automatically by placer.\n"
     ]
    }
   ],
   "source": [
    "# Get images\n",
    "X = []\n",
    "for filename in os.listdir('../data/Train/'):\n",
    "    X.append(img_to_array(load_img('../data/Train/'+filename)))\n",
    "X = np.array(X, dtype=float)\n",
    "Xtrain = 1.0/255*X\n",
    "\n",
    "tf.compat.v1.disable_eager_execution()\n",
    "# print(\"Eager mode\", tf.executing_eagerly())\n",
    "\n",
    "#Load weights\n",
    "inception = InceptionResNetV2(weights='imagenet', include_top=True)\n",
    "inception.graph = tf.compat.v1.get_default_graph()"
   ]
  },
  {
   "cell_type": "code",
   "execution_count": 3,
   "metadata": {},
   "outputs": [
    {
     "name": "stdout",
     "output_type": "stream",
     "text": [
      "Model: \"Colorizer\"\n",
      "__________________________________________________________________________________________________\n",
      " Layer (type)                   Output Shape         Param #     Connected to                     \n",
      "==================================================================================================\n",
      " input_24 (InputLayer)          [(None, 256, 256, 1  0           []                               \n",
      "                                )]                                                                \n",
      "                                                                                                  \n",
      " conv2d_323 (Conv2D)            (None, 128, 128, 64  640         ['input_24[0][0]']               \n",
      "                                )                                                                 \n",
      "                                                                                                  \n",
      " conv2d_324 (Conv2D)            (None, 128, 128, 12  73856       ['conv2d_323[0][0]']             \n",
      "                                8)                                                                \n",
      "                                                                                                  \n",
      " conv2d_325 (Conv2D)            (None, 64, 64, 128)  147584      ['conv2d_324[0][0]']             \n",
      "                                                                                                  \n",
      " conv2d_326 (Conv2D)            (None, 64, 64, 256)  295168      ['conv2d_325[0][0]']             \n",
      "                                                                                                  \n",
      " conv2d_327 (Conv2D)            (None, 32, 32, 256)  590080      ['conv2d_326[0][0]']             \n",
      "                                                                                                  \n",
      " conv2d_328 (Conv2D)            (None, 32, 32, 512)  1180160     ['conv2d_327[0][0]']             \n",
      "                                                                                                  \n",
      " input_25 (InputLayer)          [(None, 1000)]       0           []                               \n",
      "                                                                                                  \n",
      " conv2d_329 (Conv2D)            (None, 32, 32, 512)  2359808     ['conv2d_328[0][0]']             \n",
      "                                                                                                  \n",
      " repeat_vector_7 (RepeatVector)  (None, 1024, 1000)  0           ['input_25[0][0]']               \n",
      "                                                                                                  \n",
      " conv2d_330 (Conv2D)            (None, 32, 32, 256)  1179904     ['conv2d_329[0][0]']             \n",
      "                                                                                                  \n",
      " reshape_7 (Reshape)            (None, 32, 32, 1000  0           ['repeat_vector_7[0][0]']        \n",
      "                                )                                                                 \n",
      "                                                                                                  \n",
      " concatenate_7 (Concatenate)    (None, 32, 32, 1256  0           ['conv2d_330[0][0]',             \n",
      "                                )                                 'reshape_7[0][0]']              \n",
      "                                                                                                  \n",
      " conv2d_331 (Conv2D)            (None, 32, 32, 256)  321792      ['concatenate_7[0][0]']          \n",
      "                                                                                                  \n",
      " conv2d_332 (Conv2D)            (None, 32, 32, 128)  295040      ['conv2d_331[0][0]']             \n",
      "                                                                                                  \n",
      " up_sampling2d_19 (UpSampling2D  (None, 64, 64, 128)  0          ['conv2d_332[0][0]']             \n",
      " )                                                                                                \n",
      "                                                                                                  \n",
      " conv2d_333 (Conv2D)            (None, 64, 64, 64)   73792       ['up_sampling2d_19[0][0]']       \n",
      "                                                                                                  \n",
      " up_sampling2d_20 (UpSampling2D  (None, 128, 128, 64  0          ['conv2d_333[0][0]']             \n",
      " )                              )                                                                 \n",
      "                                                                                                  \n",
      " conv2d_334 (Conv2D)            (None, 128, 128, 32  18464       ['up_sampling2d_20[0][0]']       \n",
      "                                )                                                                 \n",
      "                                                                                                  \n",
      " conv2d_335 (Conv2D)            (None, 128, 128, 16  4624        ['conv2d_334[0][0]']             \n",
      "                                )                                                                 \n",
      "                                                                                                  \n",
      " dropout_5 (Dropout)            (None, 128, 128, 16  0           ['conv2d_335[0][0]']             \n",
      "                                )                                                                 \n",
      "                                                                                                  \n",
      " conv2d_336 (Conv2D)            (None, 128, 128, 2)  290         ['dropout_5[0][0]']              \n",
      "                                                                                                  \n",
      " up_sampling2d_21 (UpSampling2D  (None, 256, 256, 2)  0          ['conv2d_336[0][0]']             \n",
      " )                                                                                                \n",
      "                                                                                                  \n",
      "==================================================================================================\n",
      "Total params: 6,541,202\n",
      "Trainable params: 6,541,202\n",
      "Non-trainable params: 0\n",
      "__________________________________________________________________________________________________\n"
     ]
    },
    {
     "name": "stderr",
     "output_type": "stream",
     "text": [
      "c:\\Python\\Python310\\lib\\site-packages\\keras\\optimizer_v2\\adam.py:105: UserWarning: The `lr` argument is deprecated, use `learning_rate` instead.\n",
      "  super(Adam, self).__init__(name, **kwargs)\n"
     ]
    },
    {
     "name": "stdout",
     "output_type": "stream",
     "text": [
      "Loaded weights from previous run\n"
     ]
    }
   ],
   "source": [
    "# load json and create model\n",
    "json_file = open('model_colorme.json', 'r')\n",
    "loaded_model_json = json_file.read()\n",
    "json_file.close()\n",
    "model = model_from_json(loaded_model_json)\n",
    "\n",
    "optz = tf.optimizers.Adam(lr=0.00001)\n",
    "#optz = tf.optimizers.rmsprop(lr=0.00001)\n",
    "model.compile(optimizer=optz, loss='mse', metrics=['acc'])\n",
    "model.summary()\n",
    "\n",
    "# load weights into new model\n",
    "model.load_weights(\"colorme_weight5k_4.h5\",by_name=True)\n",
    "print(\"Loaded weights from previous run\")"
   ]
  },
  {
   "cell_type": "markdown",
   "metadata": {},
   "source": [
    "embed_input = Input(shape=(1000,))\n",
    "\n",
    "#Encoder\n",
    "encoder_input = Input(shape=(256, 256, 1,))\n",
    "encoder_output = Conv2D(64, (3,3), activation='relu', padding='same', strides=2)(encoder_input)\n",
    "encoder_output = Conv2D(128, (3,3), activation='relu', padding='same')(encoder_output)\n",
    "encoder_output = Conv2D(128, (3,3), activation='relu', padding='same', strides=2)(encoder_output)\n",
    "encoder_output = Conv2D(256, (3,3), activation='relu', padding='same')(encoder_output)\n",
    "encoder_output = Conv2D(256, (3,3), activation='relu', padding='same', strides=2)(encoder_output)\n",
    "encoder_output = Conv2D(512, (3,3), activation='relu', padding='same')(encoder_output)\n",
    "encoder_output = Conv2D(512, (3,3), activation='relu', padding='same')(encoder_output)\n",
    "encoder_output = Conv2D(256, (3,3), activation='relu', padding='same')(encoder_output)\n",
    "\n",
    "#Fusion\n",
    "fusion_output = RepeatVector(32 * 32)(embed_input) \n",
    "fusion_output = Reshape(([32, 32, 1000]))(fusion_output)\n",
    "fusion_output = concatenate([encoder_output, fusion_output], axis=3) \n",
    "fusion_output = Conv2D(256, (1, 1), activation='relu', padding='same')(fusion_output) \n",
    "\n",
    "#Decoder\n",
    "decoder_output = Conv2D(128, (3,3), activation='relu', padding='same')(fusion_output)\n",
    "decoder_output = UpSampling2D((2, 2))(decoder_output)\n",
    "decoder_output = Conv2D(64, (3,3), activation='relu', padding='same')(decoder_output)\n",
    "decoder_output = UpSampling2D((2, 2))(decoder_output)\n",
    "decoder_output = Conv2D(32, (3,3), activation='relu', padding='same')(decoder_output)\n",
    "decoder_output = Conv2D(16, (3,3), activation='relu', padding='same')(decoder_output)\n",
    "decoder_output = Conv2D(2, (3, 3), activation='tanh', padding='same')(decoder_output)\n",
    "decoder_output = UpSampling2D((2, 2))(decoder_output)\n",
    "\n",
    "model = Model(inputs=[encoder_input, embed_input], outputs=decoder_output)\n",
    "model.summary()"
   ]
  },
  {
   "cell_type": "code",
   "execution_count": 4,
   "metadata": {},
   "outputs": [],
   "source": [
    "filepath=\"weights-improvement-{epoch:02d}-{loss:.2f}.hdf5\"\n",
    "checkpoint = ModelCheckpoint(filepath, monitor='acc', verbose=1, save_best_only=True, mode='max')\n",
    "callbacks_list = [checkpoint]"
   ]
  },
  {
   "cell_type": "code",
   "execution_count": 5,
   "metadata": {},
   "outputs": [],
   "source": [
    "def create_inception_embedding(grayscaled_rgb):\n",
    "    grayscaled_rgb_resized = []\n",
    "    for i in grayscaled_rgb:\n",
    "        i = resize(i, (299, 299, 3), mode='constant')\n",
    "        grayscaled_rgb_resized.append(i)\n",
    "    grayscaled_rgb_resized = np.array(grayscaled_rgb_resized)\n",
    "    grayscaled_rgb_resized = preprocess_input(grayscaled_rgb_resized)\n",
    "    with session.as_default():\n",
    "        with inception.graph.as_default():\n",
    "            embed = inception.predict(grayscaled_rgb_resized)\n",
    "    return embed\n",
    "\n",
    "# Image transformer\n",
    "datagen = ImageDataGenerator(\n",
    "        shear_range=0.2,\n",
    "        zoom_range=0.2,\n",
    "        rotation_range=20,\n",
    "        horizontal_flip=True)\n",
    "\n",
    "#Generate training data\n",
    "batch_size = 40\n",
    "\n",
    "def image_a_b_gen(batch_size):\n",
    "    for batch in datagen.flow(Xtrain, batch_size=batch_size):\n",
    "        grayscaled_rgb = gray2rgb(rgb2gray(batch))\n",
    "        embed = create_inception_embedding(grayscaled_rgb)\n",
    "        lab_batch = rgb2lab(batch)\n",
    "        X_batch = lab_batch[:,:,:,0]\n",
    "        X_batch = X_batch.reshape(X_batch.shape+(1,))\n",
    "        Y_batch = lab_batch[:,:,:,1:] / 128\n",
    "        yield ([X_batch, create_inception_embedding(grayscaled_rgb)], Y_batch)"
   ]
  },
  {
   "cell_type": "code",
   "execution_count": 6,
   "metadata": {},
   "outputs": [
    {
     "name": "stdout",
     "output_type": "stream",
     "text": [
      "Epoch 1/10\n"
     ]
    },
    {
     "name": "stderr",
     "output_type": "stream",
     "text": [
      "c:\\Python\\Python310\\lib\\site-packages\\keras\\engine\\training_v1.py:2079: UserWarning: `Model.state_updates` will be removed in a future version. This property should not be used in TensorFlow 2.0, as `updates` are applied automatically.\n",
      "  updates=self.state_updates,\n"
     ]
    },
    {
     "name": "stdout",
     "output_type": "stream",
     "text": [
      "125/125 [==============================] - ETA: 0s - batch: 62.0000 - size: 40.0000 - loss: 0.0060 - acc: 0.6315\n",
      "Epoch 1: acc improved from -inf to 0.63147, saving model to weights-improvement-01-0.01.hdf5\n",
      "125/125 [==============================] - 475s 3s/step - batch: 62.0000 - size: 40.0000 - loss: 0.0060 - acc: 0.6315\n",
      "Epoch 2/10\n",
      "125/125 [==============================] - ETA: 0s - batch: 62.0000 - size: 40.0000 - loss: 0.0059 - acc: 0.6326\n",
      "Epoch 2: acc improved from 0.63147 to 0.63264, saving model to weights-improvement-02-0.01.hdf5\n",
      "125/125 [==============================] - 389s 3s/step - batch: 62.0000 - size: 40.0000 - loss: 0.0059 - acc: 0.6326\n",
      "Epoch 3/10\n",
      "125/125 [==============================] - ETA: 0s - batch: 62.0000 - size: 40.0000 - loss: 0.0059 - acc: 0.6339\n",
      "Epoch 3: acc improved from 0.63264 to 0.63386, saving model to weights-improvement-03-0.01.hdf5\n",
      "125/125 [==============================] - 389s 3s/step - batch: 62.0000 - size: 40.0000 - loss: 0.0059 - acc: 0.6339\n",
      "Epoch 4/10\n",
      "125/125 [==============================] - ETA: 0s - batch: 62.0000 - size: 40.0000 - loss: 0.0059 - acc: 0.6331\n",
      "Epoch 4: acc did not improve from 0.63386\n",
      "125/125 [==============================] - 387s 3s/step - batch: 62.0000 - size: 40.0000 - loss: 0.0059 - acc: 0.6331\n",
      "Epoch 5/10\n",
      "125/125 [==============================] - ETA: 0s - batch: 62.0000 - size: 40.0000 - loss: 0.0059 - acc: 0.6332\n",
      "Epoch 5: acc did not improve from 0.63386\n",
      "125/125 [==============================] - 389s 3s/step - batch: 62.0000 - size: 40.0000 - loss: 0.0059 - acc: 0.6332\n",
      "Epoch 6/10\n",
      "125/125 [==============================] - ETA: 0s - batch: 62.0000 - size: 40.0000 - loss: 0.0059 - acc: 0.6336\n",
      "Epoch 6: acc did not improve from 0.63386\n",
      "125/125 [==============================] - 387s 3s/step - batch: 62.0000 - size: 40.0000 - loss: 0.0059 - acc: 0.6336\n",
      "Epoch 7/10\n",
      "125/125 [==============================] - ETA: 0s - batch: 62.0000 - size: 40.0000 - loss: 0.0059 - acc: 0.6333\n",
      "Epoch 7: acc did not improve from 0.63386\n",
      "125/125 [==============================] - 368s 3s/step - batch: 62.0000 - size: 40.0000 - loss: 0.0059 - acc: 0.6333\n",
      "Epoch 8/10\n",
      "125/125 [==============================] - ETA: 0s - batch: 62.0000 - size: 40.0000 - loss: 0.0059 - acc: 0.6337\n",
      "Epoch 8: acc did not improve from 0.63386\n",
      "125/125 [==============================] - 367s 3s/step - batch: 62.0000 - size: 40.0000 - loss: 0.0059 - acc: 0.6337\n",
      "Epoch 9/10\n",
      "125/125 [==============================] - ETA: 0s - batch: 62.0000 - size: 40.0000 - loss: 0.0058 - acc: 0.6349\n",
      "Epoch 9: acc improved from 0.63386 to 0.63491, saving model to weights-improvement-09-0.01.hdf5\n",
      "125/125 [==============================] - 368s 3s/step - batch: 62.0000 - size: 40.0000 - loss: 0.0058 - acc: 0.6349\n",
      "Epoch 10/10\n",
      "125/125 [==============================] - ETA: 0s - batch: 62.0000 - size: 40.0000 - loss: 0.0058 - acc: 0.6342\n",
      "Epoch 10: acc did not improve from 0.63491\n",
      "125/125 [==============================] - 367s 3s/step - batch: 62.0000 - size: 40.0000 - loss: 0.0058 - acc: 0.6342\n"
     ]
    }
   ],
   "source": [
    "#Train model\n",
    "history = model.fit(image_a_b_gen(batch_size), epochs=10, steps_per_epoch=125, callbacks=callbacks_list, verbose=1)\n",
    "\n",
    "# Save model\n",
    "model_json = model.to_json()\n",
    "with open(\"model_colorme.json\", \"w\") as json_file:\n",
    "    json_file.write(model_json)\n",
    "model.save_weights(\"colorme_weight5k_5.h5\")"
   ]
  },
  {
   "cell_type": "code",
   "execution_count": 7,
   "metadata": {},
   "outputs": [
    {
     "data": {
      "image/png": "[encoded data removed]",
      "text/plain": [
       "<Figure size 432x288 with 1 Axes>"
      ]
     },
     "metadata": {
      "needs_background": "light"
     },
     "output_type": "display_data"
    },
    {
     "data": {
      "image/png": "[encoded data removed]",
      "text/plain": [
       "<Figure size 432x288 with 1 Axes>"
      ]
     },
     "metadata": {
      "needs_background": "light"
     },
     "output_type": "display_data"
    }
   ],
   "source": [
    "acc = history.history['acc']\n",
    "loss = history.history['loss']\n",
    "epochs = range(len(acc))\n",
    "plt.plot(epochs, acc, 'b', label='Training acc')\n",
    "plt.title('Training accuracy')\n",
    "plt.legend()\n",
    "plt.figure()\n",
    "plt.plot(epochs, loss, 'b', label='Training loss')\n",
    "plt.title('Training loss')\n",
    "plt.legend()\n",
    "\n",
    "plt.show()"
   ]
  },
  {
   "cell_type": "code",
   "execution_count": 8,
   "metadata": {},
   "outputs": [
    {
     "name": "stderr",
     "output_type": "stream",
     "text": [
      "Lossy conversion from float64 to uint8. Range [0, 1]. Convert image to uint8 prior to saving to suppress this warning.\n",
      "Lossy conversion from float64 to uint8. Range [0, 1]. Convert image to uint8 prior to saving to suppress this warning.\n",
      "Lossy conversion from float64 to uint8. Range [0, 1]. Convert image to uint8 prior to saving to suppress this warning.\n",
      "Lossy conversion from float64 to uint8. Range [0, 1]. Convert image to uint8 prior to saving to suppress this warning.\n",
      "Lossy conversion from float64 to uint8. Range [0, 1]. Convert image to uint8 prior to saving to suppress this warning.\n",
      "Lossy conversion from float64 to uint8. Range [0, 1]. Convert image to uint8 prior to saving to suppress this warning.\n",
      "Lossy conversion from float64 to uint8. Range [0, 1]. Convert image to uint8 prior to saving to suppress this warning.\n",
      "Lossy conversion from float64 to uint8. Range [0, 1]. Convert image to uint8 prior to saving to suppress this warning.\n",
      "Lossy conversion from float64 to uint8. Range [0, 1]. Convert image to uint8 prior to saving to suppress this warning.\n",
      "Lossy conversion from float64 to uint8. Range [0, 1]. Convert image to uint8 prior to saving to suppress this warning.\n",
      "Lossy conversion from float64 to uint8. Range [0, 1]. Convert image to uint8 prior to saving to suppress this warning.\n",
      "Lossy conversion from float64 to uint8. Range [0, 1]. Convert image to uint8 prior to saving to suppress this warning.\n",
      "Lossy conversion from float64 to uint8. Range [0, 1]. Convert image to uint8 prior to saving to suppress this warning.\n",
      "Lossy conversion from float64 to uint8. Range [0, 1]. Convert image to uint8 prior to saving to suppress this warning.\n",
      "Lossy conversion from float64 to uint8. Range [0, 1]. Convert image to uint8 prior to saving to suppress this warning.\n",
      "Lossy conversion from float64 to uint8. Range [0, 1]. Convert image to uint8 prior to saving to suppress this warning.\n",
      "Lossy conversion from float64 to uint8. Range [0, 1]. Convert image to uint8 prior to saving to suppress this warning.\n",
      "Lossy conversion from float64 to uint8. Range [0, 1]. Convert image to uint8 prior to saving to suppress this warning.\n",
      "c:\\Python\\Python310\\lib\\site-packages\\skimage\\_shared\\utils.py:338: UserWarning: Color data out of range: Z < 0 in 9 pixels\n",
      "  return func(*args, **kwargs)\n",
      "Lossy conversion from float64 to uint8. Range [0, 1]. Convert image to uint8 prior to saving to suppress this warning.\n",
      "Lossy conversion from float64 to uint8. Range [0, 1]. Convert image to uint8 prior to saving to suppress this warning.\n",
      "Lossy conversion from float64 to uint8. Range [0, 1]. Convert image to uint8 prior to saving to suppress this warning.\n",
      "Lossy conversion from float64 to uint8. Range [0, 1]. Convert image to uint8 prior to saving to suppress this warning.\n",
      "Lossy conversion from float64 to uint8. Range [0, 1]. Convert image to uint8 prior to saving to suppress this warning.\n",
      "Lossy conversion from float64 to uint8. Range [0, 1]. Convert image to uint8 prior to saving to suppress this warning.\n",
      "Lossy conversion from float64 to uint8. Range [0, 1]. Convert image to uint8 prior to saving to suppress this warning.\n",
      "Lossy conversion from float64 to uint8. Range [0, 1]. Convert image to uint8 prior to saving to suppress this warning.\n"
     ]
    }
   ],
   "source": [
    "color_me = []\n",
    "for filename in os.listdir('../data/Test/'):\n",
    "    color_me.append(img_to_array(load_img('../data/Test/'+filename)))\n",
    "color_me = np.array(color_me, dtype=float)\n",
    "gray_me = gray2rgb(rgb2gray(1.0/255*color_me))\n",
    "color_me_embed = create_inception_embedding(gray_me)\n",
    "color_me = rgb2lab(1.0/255*color_me)[:,:,:,0]\n",
    "color_me = color_me.reshape(color_me.shape+(1,))\n",
    "\n",
    "\n",
    "# Test model\n",
    "output = model.predict([color_me, color_me_embed])\n",
    "output = output * 128\n",
    "\n",
    "# Output colorizations\n",
    "for i in range(len(output)):\n",
    "    cur = np.zeros((256, 256, 3))\n",
    "    cur[:,:,0] = color_me[i][:,:,0]\n",
    "    cur[:,:,1:] = output[i]\n",
    "    imsave(\"result/img_\"+str(i)+\".png\", lab2rgb(cur))"
   ]
  }
 ],
 "metadata": {
  "interpreter": {
   "hash": "d3e10ef16274dd72e574b8fa73b58450b957d8421a2901baded3cca26fcf5dda"
  },
  "kernelspec": {
   "display_name": "Python 3.10.2 64-bit",
   "language": "python",
   "name": "python3"
  },
  "language_info": {
   "codemirror_mode": {
    "name": "ipython",
    "version": 3
   },
   "file_extension": ".py",
   "mimetype": "text/x-python",
   "name": "python",
   "nbconvert_exporter": "python",
   "pygments_lexer": "ipython3",
   "version": "3.10.2"
  }
 },
 "nbformat": 4,
 "nbformat_minor": 2
}
